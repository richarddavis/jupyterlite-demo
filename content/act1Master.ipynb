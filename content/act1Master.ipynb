{
 "cells": [
  {
   "cell_type": "markdown",
   "id": "66768157",
   "metadata": {},
   "source": [
    "# Loss Functions"
   ]
  },
  {
   "cell_type": "code",
   "execution_count": null,
   "id": "33542ea6",
   "metadata": {},
   "outputs": [],
   "source": [
    "import matplotlib.pyplot as plt\n",
    "import numpy as np\n",
    "from matplotlib.pyplot import figure"
   ]
  },
  {
   "cell_type": "code",
   "execution_count": null,
   "id": "ba222761",
   "metadata": {},
   "outputs": [],
   "source": [
    "x=np.arange(0,13,2)\n",
    "y=np.arange(0,7,1)\n",
    "figure(figsize=(8, 2), dpi=100)\n",
    "plt.subplot(1, 2, 1)\n",
    "y1_prime=[1,1.5,2,4,4.5,3,5.5]\n",
    "plt.plot(x,y,color=\"red\")\n",
    "plt.plot(x,y1_prime,'+', linewidth=6, markersize=7)\n",
    "plt.xticks(np.arange(0,13,1))\n",
    "plt.yticks(np.arange(0,7,1))\n",
    "plt.grid(color='silver', linestyle='dashed')\n",
    "plt.title('Graph 1')\n",
    "#plt.show()\n",
    "\n",
    "plt.subplot(1, 2, 2)\n",
    "y2_prime=[2,2,3,2,4,5,6]\n",
    "plt.plot(x,y,color=\"red\")\n",
    "plt.plot(x,y2_prime,'+', linewidth=6, markersize=7)\n",
    "plt.xticks(np.arange(0,13,1))\n",
    "plt.yticks(np.arange(0,7,1))\n",
    "plt.grid(color='silver', linestyle='dashed')\n",
    "plt.title('Graph 2')\n",
    "#plt.show()\n",
    "\n",
    "plt.show()"
   ]
  },
  {
   "cell_type": "code",
   "execution_count": null,
   "id": "d9ff69bd",
   "metadata": {},
   "outputs": [],
   "source": [
    "import otter\n",
    "grader = otter.Notebook()"
   ]
  },
  {
   "cell_type": "markdown",
   "id": "7c7ab361",
   "metadata": {},
   "source": [
    "## Calculate MAE"
   ]
  },
  {
   "cell_type": "markdown",
   "id": "2fa84b8f",
   "metadata": {},
   "source": [
    "Write down below the MAE of graph 1"
   ]
  },
  {
   "cell_type": "code",
   "execution_count": null,
   "id": "7df6c2c0",
   "metadata": {
    "tags": []
   },
   "outputs": [],
   "source": [
    "mae1 = None #YOUR CODE HERE\n",
    "..."
   ]
  },
  {
   "cell_type": "code",
   "execution_count": null,
   "id": "33eef420",
   "metadata": {
    "deletable": false,
    "editable": false
   },
   "outputs": [],
   "source": [
    "grader.check(\"MAE1\")"
   ]
  },
  {
   "cell_type": "markdown",
   "id": "a8009b3c",
   "metadata": {},
   "source": [
    "Write down below the MAE of graph 2 (ex: 0.0)"
   ]
  },
  {
   "cell_type": "code",
   "execution_count": null,
   "id": "ec642d32",
   "metadata": {
    "tags": []
   },
   "outputs": [],
   "source": [
    "mae2 = None #YOUR CODE HERE\n",
    "..."
   ]
  },
  {
   "cell_type": "code",
   "execution_count": null,
   "id": "e020f9a7",
   "metadata": {
    "deletable": false,
    "editable": false
   },
   "outputs": [],
   "source": [
    "grader.check(\"MAE2\")"
   ]
  },
  {
   "cell_type": "markdown",
   "id": "7c1f71c3",
   "metadata": {},
   "source": [
    "Which one of these graph has the lowest loss given the mean absolute error loss function ? (Write down either 1 or 2 in the following cell)"
   ]
  },
  {
   "cell_type": "code",
   "execution_count": null,
   "id": "56e11256",
   "metadata": {
    "tags": []
   },
   "outputs": [],
   "source": [
    "minimumLoss = None #YOUR CODE HERE\n",
    "..."
   ]
  },
  {
   "cell_type": "code",
   "execution_count": null,
   "id": "7cf6a41c",
   "metadata": {
    "deletable": false,
    "editable": false
   },
   "outputs": [],
   "source": [
    "grader.check(\"MAE3\")"
   ]
  },
  {
   "cell_type": "markdown",
   "id": "cd5dc8af",
   "metadata": {},
   "source": [
    "## Calculate MSE"
   ]
  },
  {
   "cell_type": "markdown",
   "id": "84171faf",
   "metadata": {},
   "source": [
    "Write down below the MSE of graph 1 (ex: 0.0)"
   ]
  },
  {
   "cell_type": "code",
   "execution_count": null,
   "id": "25f1d7fd",
   "metadata": {
    "tags": []
   },
   "outputs": [],
   "source": [
    "mse1 = None #YOUR CODE HERE\n",
    "..."
   ]
  },
  {
   "cell_type": "code",
   "execution_count": null,
   "id": "40146205",
   "metadata": {
    "deletable": false,
    "editable": false
   },
   "outputs": [],
   "source": [
    "grader.check(\"MSE1\")"
   ]
  },
  {
   "cell_type": "markdown",
   "id": "52f4c932",
   "metadata": {},
   "source": [
    "Write down below the MSE of graph 2 (ex: 0.0)"
   ]
  },
  {
   "cell_type": "code",
   "execution_count": null,
   "id": "38ac4ce0",
   "metadata": {
    "tags": []
   },
   "outputs": [],
   "source": [
    "mse2 = None #YOUR CODE HERE\n",
    "..."
   ]
  },
  {
   "cell_type": "code",
   "execution_count": null,
   "id": "bdcbe476",
   "metadata": {
    "deletable": false,
    "editable": false
   },
   "outputs": [],
   "source": [
    "grader.check(\"MSE2\")"
   ]
  },
  {
   "cell_type": "markdown",
   "id": "25e26dba",
   "metadata": {},
   "source": [
    "Which one of these graph has the lowest loss given the mean squared error loss function ? (Write down either 1 or 2 in the following cell)"
   ]
  },
  {
   "cell_type": "code",
   "execution_count": null,
   "id": "ab07c14f",
   "metadata": {
    "tags": []
   },
   "outputs": [],
   "source": [
    "minimumLoss2 = None #YOUR CODE HERE\n",
    "..."
   ]
  },
  {
   "cell_type": "code",
   "execution_count": null,
   "id": "8c6b9748",
   "metadata": {
    "deletable": false,
    "editable": false
   },
   "outputs": [],
   "source": [
    "grader.check(\"MSE3\")"
   ]
  }
 ],
 "metadata": {
  "kernelspec": {
   "display_name": "Python 3 (ipykernel)",
   "language": "python",
   "name": "python3"
  },
  "language_info": {
   "codemirror_mode": {
    "name": "ipython",
    "version": 3
   },
   "file_extension": ".py",
   "mimetype": "text/x-python",
   "name": "python",
   "nbconvert_exporter": "python",
   "pygments_lexer": "ipython3",
   "version": "3.8.6"
  },
  "otter": {
   "OK_FORMAT": false,
   "tests": {
    "MAE1": "from otter.test_files import test_case\n\nOK_FORMAT = False\n\nname = \"MAE1\"\npoints = None\n\n@test_case(points=None, hidden=False, \n    success_message=\"Good job!\", \n    failure_message=\"Oops... try to check your calculations\")\ndef test_mae1(mae1):\n    msg = \"\"\n    if mae1 != 5.5:\n        msg = \"Wrong value\"\n    elif mae1 == 5.5:\n        msg = \"Right value\"\n    if len(msg) != 0:\n        assert False, f\"{msg}\"\n        \n",
    "MAE2": "from otter.test_files import test_case\n\nOK_FORMAT = False\n\nname = \"MAE2\"\npoints = None\n\n@test_case(points=None, hidden=False, \n    success_message=\"Good job!\", \n    failure_message=\"Oops... try to check your calculations\")\ndef test_mae2(mae2):\n    msg = \"\"\n    if mae2 != 5:\n        msg = \"Wrong value\"\n        assert False, f\"{msg}\"\n    else :\n        assert True\n",
    "MAE3": "from otter.test_files import test_case\n\nOK_FORMAT = False\n\nname = \"MAE3\"\npoints = None\n\n@test_case(points=None, hidden=False, \n    success_message=\"Good job!\", \n    failure_message=\"Are you sure ?\")\ndef test_minimumLoss(minimumLoss):\n    msg = \"\"\n    if minimumLoss != 2:\n        msg = \"Wrong value\"\n        assert False, f\"{msg}\"\n    else :\n        assert True\n",
    "MSE1": "from otter.test_files import test_case\n\nOK_FORMAT = False\n\nname = \"MSE1\"\npoints = None\n\n@test_case(points=None, hidden=False, \n    success_message=\"Good job!\", \n    failure_message=\"Oops... try to check your calculations\")\ndef test_mse1(mse1):\n    msg = \"\"\n    if mse1 != 6.75:\n        msg = \"Wrong value\"\n        assert False, f\"{msg}\"\n    else :\n        assert True\n",
    "MSE2": "from otter.test_files import test_case\n\nOK_FORMAT = False\n\nname = \"MSE2\"\npoints = None\n\n@test_case(points=None, hidden=False, \n    success_message=\"Good job!\", \n    failure_message=\"Oops... try to check your calculations\")\ndef test_mse2(mse2):\n    msg = \"\"\n    if mse2 != 7:\n        msg = \"Wrong value\"\n        assert False, f\"{msg}\"\n    else :\n        assert True\n",
    "MSE3": "from otter.test_files import test_case\n\nOK_FORMAT = False\n\nname = \"MSE3\"\npoints = None\n\n@test_case(points=None, hidden=False, \n    success_message=\"Good job!\", \n    failure_message=\"Are you sure ?\")\ndef test_minimumLoss2(minimumLoss2):\n    msg = \"\"\n    if minimumLoss2 != 1:\n        msg = \"Wrong value\"\n        assert False, f\"{msg}\"\n    else :\n        assert True\n"
   }
  }
 },
 "nbformat": 4,
 "nbformat_minor": 5
}
